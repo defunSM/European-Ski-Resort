{
 "cells": [
  {
   "cell_type": "code",
   "execution_count": 218,
   "metadata": {},
   "outputs": [],
   "source": [
    "from sklearn.linear_model import Lasso, Ridge\n",
    "from sklearn.model_selection import train_test_split\n",
    "from sklearn.metrics import mean_squared_error\n",
    "from sklearn.metrics import r2_score\n",
    "\n",
    "from sklearn.preprocessing import StandardScaler\n",
    "\n",
    "import pandas as pd\n",
    "import matplotlib.pyplot as plt\n",
    "import seaborn as sns\n",
    "import pickle"
   ]
  },
  {
   "cell_type": "code",
   "execution_count": 219,
   "metadata": {},
   "outputs": [],
   "source": [
    "# get processed dataset\n",
    "df = pd.read_csv('../data/processed/European_Ski_Resorts.csv')"
   ]
  },
  {
   "cell_type": "code",
   "execution_count": 220,
   "metadata": {},
   "outputs": [],
   "source": [
    "# Create dummy variables for the country column\n",
    "df = pd.get_dummies(df, columns=['Country'], dtype=float)"
   ]
  },
  {
   "cell_type": "code",
   "execution_count": 222,
   "metadata": {},
   "outputs": [],
   "source": [
    "# split data into \"X\" and \"y\" set\n",
    "\n",
    "X = df.drop('DayPassPriceAdult', axis=1)\n",
    "y = df['DayPassPriceAdult']\n",
    "\n",
    "# Split the data into training and testing sets\n",
    "X_train, X_test, y_train, y_test = train_test_split(X, y, test_size=0.25, random_state=42)"
   ]
  },
  {
   "cell_type": "code",
   "execution_count": 223,
   "metadata": {},
   "outputs": [
    {
     "name": "stdout",
     "output_type": "stream",
     "text": [
      "0.6924566414168356\n",
      "MSE: 31.33\n"
     ]
    }
   ],
   "source": [
    "# Scaling the data\n",
    "\n",
    "from sklearn.pipeline import make_pipeline\n",
    "from sklearn.ensemble import RandomForestRegressor\n",
    "\n",
    "pipe = make_pipeline(StandardScaler(), RandomForestRegressor())\n",
    "pipe.fit(X_train, y_train)\n",
    "pipe_score = pipe.score(X_test, y_test)\n",
    "\n",
    "y_pred = pipe.predict(X_test)\n",
    "mse = mean_squared_error(y_test, y_pred)\n",
    "\n",
    "print(pipe_score)\n",
    "print(\"MSE: %.2f\" % mse)\n",
    "\n"
   ]
  },
  {
   "cell_type": "markdown",
   "metadata": {},
   "source": [
    "# Comparsion of Ridge and Lasso Regression"
   ]
  },
  {
   "cell_type": "code",
   "execution_count": 224,
   "metadata": {},
   "outputs": [
    {
     "name": "stderr",
     "output_type": "stream",
     "text": [
      "c:\\Users\\Salma\\Anaconda3\\Lib\\site-packages\\sklearn\\linear_model\\_coordinate_descent.py:628: ConvergenceWarning: Objective did not converge. You might want to increase the number of iterations, check the scale of the features or consider increasing regularisation. Duality gap: 9.687e+01, tolerance: 4.026e+00\n",
      "  model = cd_fast.enet_coordinate_descent(\n"
     ]
    }
   ],
   "source": [
    "# Lasso Regression\n",
    "\n",
    "lasso_model = Lasso(alpha=0.1)\n",
    "lasso_model.fit(X_train, y_train)\n",
    "lasso_predictions = lasso_model.predict(X_test)\n",
    "\n",
    "y_pred = lasso_model.predict(X_test)\n",
    "lasso_r2 = r2_score(y_test, lasso_predictions)\n",
    "mse = mean_squared_error(y_test, y_pred)\n",
    "\n",
    "print(f'Lasso R^2 is {lasso_r2}')\n",
    "print(f'Mean Squared Error is {mse}')"
   ]
  },
  {
   "cell_type": "code",
   "execution_count": 226,
   "metadata": {},
   "outputs": [
    {
     "name": "stdout",
     "output_type": "stream",
     "text": [
      "Ridge R^2 is 0.7091828605966854\n",
      "Mean Squared Error is 29.62857660464421\n"
     ]
    }
   ],
   "source": [
    "# Ridge Regression\n",
    "\n",
    "ridge_model = Ridge(alpha=0.1)\n",
    "ridge_model.fit(X_train, y_train)\n",
    "ridge_predictions = ridge_model.predict(X_test)\n",
    "\n",
    "y_pred = ridge_model.predict(X_test)\n",
    "ridge_r2 = r2_score(y_test, ridge_predictions)\n",
    "mse = mean_squared_error(y_test, y_pred)\n",
    "\n",
    "print(f'Ridge R^2 is {ridge_r2}')\n",
    "print(f'Mean Squared Error is {mse}')"
   ]
  }
 ],
 "metadata": {
  "kernelspec": {
   "display_name": "phase1",
   "language": "python",
   "name": "python3"
  },
  "language_info": {
   "codemirror_mode": {
    "name": "ipython",
    "version": 3
   },
   "file_extension": ".py",
   "mimetype": "text/x-python",
   "name": "python",
   "nbconvert_exporter": "python",
   "pygments_lexer": "ipython3",
   "version": "3.11.5"
  }
 },
 "nbformat": 4,
 "nbformat_minor": 2
}
