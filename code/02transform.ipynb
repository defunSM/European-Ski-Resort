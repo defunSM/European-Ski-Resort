{
 "cells": [
  {
   "cell_type": "code",
   "execution_count": 29,
   "metadata": {},
   "outputs": [],
   "source": [
    "import pandas as pd\n",
    "import numpy as np\n",
    "\n",
    "import matplotlib.pyplot as plt\n",
    "import seaborn as sns"
   ]
  },
  {
   "cell_type": "code",
   "execution_count": 30,
   "metadata": {},
   "outputs": [],
   "source": [
    "# loading in dataset\n",
    "df = pd.read_csv('../data/raw/European_Ski_Resorts.csv')"
   ]
  },
  {
   "cell_type": "markdown",
   "metadata": {},
   "source": [
    "# Converting Columns to numerical values\n"
   ]
  },
  {
   "cell_type": "code",
   "execution_count": 31,
   "metadata": {},
   "outputs": [],
   "source": [
    "# Converting 'NightSki' and 'Snowparks' columns to numerical values\n",
    "df['NightSki'] = df['NightSki'].map({'Yes':1, 'No':0})\n",
    "df['Snowparks'] = df['Snowparks'].map({'Yes':1, 'No':0})"
   ]
  },
  {
   "cell_type": "code",
   "execution_count": 35,
   "metadata": {},
   "outputs": [
    {
     "data": {
      "text/plain": [
       "<bound method NDFrame.head of        #                                             Resort          Country  \\\n",
       "0      1                              Alpendorf (Ski amedé)          Austria   \n",
       "1      2  Soldeu-Pas de la Casa/​Grau Roig/​El Tarter/​C...          Andorra   \n",
       "2      3                              Oberau (Wildschönau)          Austria   \n",
       "3      4                                     Dachstein West          Austria   \n",
       "4      5                                        Rosa Khutor  Southern Russia   \n",
       "..   ...                                                ...              ...   \n",
       "371  372                          Montgenèvre (Via Lattea)           France   \n",
       "372  373                          Sauze d’Oulx (Via Lattea)            Italy   \n",
       "373  374             Gressoney - La-Trinite (Monterosa Ski)            Italy   \n",
       "374  375                          Champoluc (Monterosa Ski)            Italy   \n",
       "375  376                                         Zauchensee          Austria   \n",
       "\n",
       "     HighestPoint  LowestPoint  DayPassPriceAdult  BeginnerSlope  \\\n",
       "0            1980          740                 52             30   \n",
       "1            2640         1710                 47            100   \n",
       "2            1130          900                 30              1   \n",
       "3            1620          780                 42             15   \n",
       "4            2320          940                 22             30   \n",
       "..            ...          ...                ...            ...   \n",
       "371          2749         1372                 48             96   \n",
       "372          2749         1372                 48             96   \n",
       "373          3275         1212                 43             23   \n",
       "374          3275         1212                 43             23   \n",
       "375          2188         1000                 52             23   \n",
       "\n",
       "     IntermediateSlope  DifficultSlope  TotalSlope  Snowparks  NightSki  \\\n",
       "0                   81               4         115        1.0         0   \n",
       "1                   77              33         210        1.0         1   \n",
       "2                    0               1           2        0.0         0   \n",
       "3                   33               3          51        1.0         1   \n",
       "4                   26              21          77        1.0         0   \n",
       "..                 ...             ...         ...        ...       ...   \n",
       "371                220              84         400        0.0         1   \n",
       "372                220              84         400        0.0         1   \n",
       "373                 94              15         132        1.0         0   \n",
       "374                 94              15         132        1.0         0   \n",
       "375                 16               4          44        1.0         0   \n",
       "\n",
       "     SurfaceLifts  ChairLifts  GondolaLifts  TotalLifts  LiftCapacity  \\\n",
       "0              22          16            11          49         75398   \n",
       "1              37          28             7          72         99017   \n",
       "2               2           0             0           2          1932   \n",
       "3              25           8             3          36         32938   \n",
       "4               6          11            10          27         49228   \n",
       "..            ...         ...           ...         ...           ...   \n",
       "371            29          35             7          71         96433   \n",
       "372            29          35             7          71         96433   \n",
       "373             9           9            12          30         31984   \n",
       "374             9           9            12          30         31984   \n",
       "375             9           6             4          19         25988   \n",
       "\n",
       "     SnowCannons  \n",
       "0            600  \n",
       "1           1032  \n",
       "2              0  \n",
       "3            163  \n",
       "4            450  \n",
       "..           ...  \n",
       "371            0  \n",
       "372            0  \n",
       "373          655  \n",
       "374          655  \n",
       "375          113  \n",
       "\n",
       "[376 rows x 18 columns]>"
      ]
     },
     "execution_count": 35,
     "metadata": {},
     "output_type": "execute_result"
    }
   ],
   "source": [
    "df.head"
   ]
  }
 ],
 "metadata": {
  "kernelspec": {
   "display_name": "phase1",
   "language": "python",
   "name": "python3"
  },
  "language_info": {
   "codemirror_mode": {
    "name": "ipython",
    "version": 3
   },
   "file_extension": ".py",
   "mimetype": "text/x-python",
   "name": "python",
   "nbconvert_exporter": "python",
   "pygments_lexer": "ipython3",
   "version": "3.9.18"
  }
 },
 "nbformat": 4,
 "nbformat_minor": 2
}
