{
 "cells": [
  {
   "cell_type": "code",
   "execution_count": 3,
   "metadata": {},
   "outputs": [],
   "source": [
    "import pandas as pd\n",
    "import numpy as np"
   ]
  },
  {
   "cell_type": "code",
   "execution_count": 4,
   "metadata": {},
   "outputs": [],
   "source": [
    "df = pd.read_csv('../data/raw/European_Ski_Resorts.csv')\n"
   ]
  },
  {
   "cell_type": "code",
   "execution_count": 5,
   "metadata": {},
   "outputs": [
    {
     "data": {
      "text/plain": [
       "(376, 18)"
      ]
     },
     "execution_count": 5,
     "metadata": {},
     "output_type": "execute_result"
    }
   ],
   "source": [
    "df.shape"
   ]
  },
  {
   "cell_type": "code",
   "execution_count": 6,
   "metadata": {},
   "outputs": [
    {
     "data": {
      "text/plain": [
       "#                                                                70876\n",
       "Resort               Alpendorf (Ski amedé)Soldeu-Pas de la Casa/​Gr...\n",
       "Country              AustriaAndorraAustriaAustriaSouthern RussiaPol...\n",
       "HighestPoint                                                    771435\n",
       "LowestPoint                                                     396717\n",
       "DayPassPriceAdult                                                15333\n",
       "BeginnerSlope                                                    13487\n",
       "IntermediateSlope                                                14419\n",
       "DifficultSlope                                                    4428\n",
       "TotalSlope                                                       32433\n",
       "Snowparks            YesYesNoYesYesYesNoNoNoNoNoNoYesNoNoYesYesYesY...\n",
       "NightSki             NoYesNoYesNoYesYesNoYesNoNoNoYesNoNoYesYesYesN...\n",
       "SurfaceLifts                                                      5137\n",
       "ChairLifts                                                        3512\n",
       "GondolaLifts                                                      1487\n",
       "TotalLifts                                                       10136\n",
       "LiftCapacity                                                  13057444\n",
       "SnowCannons                                                      82104\n",
       "dtype: object"
      ]
     },
     "execution_count": 6,
     "metadata": {},
     "output_type": "execute_result"
    }
   ],
   "source": [
    "df.sum()"
   ]
  },
  {
   "cell_type": "code",
   "execution_count": 7,
   "metadata": {},
   "outputs": [
    {
     "data": {
      "text/plain": [
       "<bound method DataFrame.dropna of        #                                             Resort          Country  \\\n",
       "0      1                              Alpendorf (Ski amedé)          Austria   \n",
       "1      2  Soldeu-Pas de la Casa/​Grau Roig/​El Tarter/​C...          Andorra   \n",
       "2      3                              Oberau (Wildschönau)          Austria   \n",
       "3      4                                     Dachstein West          Austria   \n",
       "4      5                                        Rosa Khutor  Southern Russia   \n",
       "..   ...                                                ...              ...   \n",
       "371  372                          Montgenèvre (Via Lattea)           France   \n",
       "372  373                          Sauze d’Oulx (Via Lattea)            Italy   \n",
       "373  374             Gressoney - La-Trinite (Monterosa Ski)            Italy   \n",
       "374  375                          Champoluc (Monterosa Ski)            Italy   \n",
       "375  376                                         Zauchensee          Austria   \n",
       "\n",
       "     HighestPoint  LowestPoint  DayPassPriceAdult  BeginnerSlope  \\\n",
       "0            1980          740                 52             30   \n",
       "1            2640         1710                 47            100   \n",
       "2            1130          900                 30              1   \n",
       "3            1620          780                 42             15   \n",
       "4            2320          940                 22             30   \n",
       "..            ...          ...                ...            ...   \n",
       "371          2749         1372                 48             96   \n",
       "372          2749         1372                 48             96   \n",
       "373          3275         1212                 43             23   \n",
       "374          3275         1212                 43             23   \n",
       "375          2188         1000                 52             23   \n",
       "\n",
       "     IntermediateSlope  DifficultSlope  TotalSlope Snowparks NightSki  \\\n",
       "0                   81               4         115       Yes       No   \n",
       "1                   77              33         210       Yes      Yes   \n",
       "2                    0               1           2        No       No   \n",
       "3                   33               3          51       Yes      Yes   \n",
       "4                   26              21          77       Yes       No   \n",
       "..                 ...             ...         ...       ...      ...   \n",
       "371                220              84         400        No      Yes   \n",
       "372                220              84         400        No      Yes   \n",
       "373                 94              15         132       Yes       No   \n",
       "374                 94              15         132       Yes       No   \n",
       "375                 16               4          44       Yes       No   \n",
       "\n",
       "     SurfaceLifts  ChairLifts  GondolaLifts  TotalLifts  LiftCapacity  \\\n",
       "0              22          16            11          49         75398   \n",
       "1              37          28             7          72         99017   \n",
       "2               2           0             0           2          1932   \n",
       "3              25           8             3          36         32938   \n",
       "4               6          11            10          27         49228   \n",
       "..            ...         ...           ...         ...           ...   \n",
       "371            29          35             7          71         96433   \n",
       "372            29          35             7          71         96433   \n",
       "373             9           9            12          30         31984   \n",
       "374             9           9            12          30         31984   \n",
       "375             9           6             4          19         25988   \n",
       "\n",
       "     SnowCannons  \n",
       "0            600  \n",
       "1           1032  \n",
       "2              0  \n",
       "3            163  \n",
       "4            450  \n",
       "..           ...  \n",
       "371            0  \n",
       "372            0  \n",
       "373          655  \n",
       "374          655  \n",
       "375          113  \n",
       "\n",
       "[376 rows x 18 columns]>"
      ]
     },
     "execution_count": 7,
     "metadata": {},
     "output_type": "execute_result"
    }
   ],
   "source": [
    "\n",
    "df.dropna\n"
   ]
  }
 ],
 "metadata": {
  "kernelspec": {
   "display_name": "phase1",
   "language": "python",
   "name": "python3"
  },
  "language_info": {
   "codemirror_mode": {
    "name": "ipython",
    "version": 3
   },
   "file_extension": ".py",
   "mimetype": "text/x-python",
   "name": "python",
   "nbconvert_exporter": "python",
   "pygments_lexer": "ipython3",
   "version": "3.9.18"
  }
 },
 "nbformat": 4,
 "nbformat_minor": 2
}
