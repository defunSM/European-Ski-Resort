{
 "cells": [
  {
   "cell_type": "code",
   "execution_count": 2,
   "metadata": {},
   "outputs": [],
   "source": [
    "import pandas as pd\n"
   ]
  },
  {
   "cell_type": "code",
   "execution_count": 5,
   "metadata": {},
   "outputs": [],
   "source": [
    "df = pd.read_csv('../data/raw/European_Ski_Resorts.csv')"
   ]
  },
  {
   "cell_type": "code",
   "execution_count": 6,
   "metadata": {},
   "outputs": [
    {
     "data": {
      "text/html": [
       "<div>\n",
       "<style scoped>\n",
       "    .dataframe tbody tr th:only-of-type {\n",
       "        vertical-align: middle;\n",
       "    }\n",
       "\n",
       "    .dataframe tbody tr th {\n",
       "        vertical-align: top;\n",
       "    }\n",
       "\n",
       "    .dataframe thead th {\n",
       "        text-align: right;\n",
       "    }\n",
       "</style>\n",
       "<table border=\"1\" class=\"dataframe\">\n",
       "  <thead>\n",
       "    <tr style=\"text-align: right;\">\n",
       "      <th></th>\n",
       "      <th>Unnamed: 0</th>\n",
       "      <th>HighestPoint</th>\n",
       "      <th>LowestPoint</th>\n",
       "      <th>DayPassPriceAdult</th>\n",
       "      <th>BeginnerSlope</th>\n",
       "      <th>IntermediateSlope</th>\n",
       "      <th>DifficultSlope</th>\n",
       "      <th>TotalSlope</th>\n",
       "      <th>SurfaceLifts</th>\n",
       "      <th>ChairLifts</th>\n",
       "      <th>GondolaLifts</th>\n",
       "      <th>TotalLifts</th>\n",
       "      <th>LiftCapacity</th>\n",
       "      <th>SnowCannons</th>\n",
       "    </tr>\n",
       "  </thead>\n",
       "  <tbody>\n",
       "    <tr>\n",
       "      <th>count</th>\n",
       "      <td>376.000000</td>\n",
       "      <td>376.000000</td>\n",
       "      <td>376.000000</td>\n",
       "      <td>376.000000</td>\n",
       "      <td>376.000000</td>\n",
       "      <td>376.000000</td>\n",
       "      <td>376.000000</td>\n",
       "      <td>376.000000</td>\n",
       "      <td>376.000000</td>\n",
       "      <td>376.000000</td>\n",
       "      <td>376.000000</td>\n",
       "      <td>376.000000</td>\n",
       "      <td>376.000000</td>\n",
       "      <td>376.000000</td>\n",
       "    </tr>\n",
       "    <tr>\n",
       "      <th>mean</th>\n",
       "      <td>188.500000</td>\n",
       "      <td>2051.688830</td>\n",
       "      <td>1055.098404</td>\n",
       "      <td>40.779255</td>\n",
       "      <td>35.869681</td>\n",
       "      <td>38.348404</td>\n",
       "      <td>11.776596</td>\n",
       "      <td>86.257979</td>\n",
       "      <td>13.662234</td>\n",
       "      <td>9.340426</td>\n",
       "      <td>3.954787</td>\n",
       "      <td>26.957447</td>\n",
       "      <td>34727.244681</td>\n",
       "      <td>218.361702</td>\n",
       "    </tr>\n",
       "    <tr>\n",
       "      <th>std</th>\n",
       "      <td>108.686092</td>\n",
       "      <td>776.719908</td>\n",
       "      <td>423.604310</td>\n",
       "      <td>12.474259</td>\n",
       "      <td>53.719832</td>\n",
       "      <td>49.691136</td>\n",
       "      <td>17.785780</td>\n",
       "      <td>113.740218</td>\n",
       "      <td>14.438661</td>\n",
       "      <td>12.595282</td>\n",
       "      <td>6.565411</td>\n",
       "      <td>31.038957</td>\n",
       "      <td>45955.042689</td>\n",
       "      <td>406.903529</td>\n",
       "    </tr>\n",
       "    <tr>\n",
       "      <th>min</th>\n",
       "      <td>1.000000</td>\n",
       "      <td>0.000000</td>\n",
       "      <td>0.000000</td>\n",
       "      <td>0.000000</td>\n",
       "      <td>0.000000</td>\n",
       "      <td>0.000000</td>\n",
       "      <td>0.000000</td>\n",
       "      <td>0.000000</td>\n",
       "      <td>0.000000</td>\n",
       "      <td>0.000000</td>\n",
       "      <td>0.000000</td>\n",
       "      <td>0.000000</td>\n",
       "      <td>0.000000</td>\n",
       "      <td>0.000000</td>\n",
       "    </tr>\n",
       "    <tr>\n",
       "      <th>25%</th>\n",
       "      <td>94.750000</td>\n",
       "      <td>1550.000000</td>\n",
       "      <td>779.250000</td>\n",
       "      <td>34.000000</td>\n",
       "      <td>8.000000</td>\n",
       "      <td>9.000000</td>\n",
       "      <td>2.000000</td>\n",
       "      <td>25.000000</td>\n",
       "      <td>5.000000</td>\n",
       "      <td>2.000000</td>\n",
       "      <td>0.000000</td>\n",
       "      <td>10.000000</td>\n",
       "      <td>10642.500000</td>\n",
       "      <td>0.000000</td>\n",
       "    </tr>\n",
       "    <tr>\n",
       "      <th>50%</th>\n",
       "      <td>188.500000</td>\n",
       "      <td>2104.000000</td>\n",
       "      <td>1050.000000</td>\n",
       "      <td>42.000000</td>\n",
       "      <td>19.000000</td>\n",
       "      <td>22.000000</td>\n",
       "      <td>5.000000</td>\n",
       "      <td>48.000000</td>\n",
       "      <td>9.000000</td>\n",
       "      <td>5.000000</td>\n",
       "      <td>2.000000</td>\n",
       "      <td>17.000000</td>\n",
       "      <td>19031.500000</td>\n",
       "      <td>54.000000</td>\n",
       "    </tr>\n",
       "    <tr>\n",
       "      <th>75%</th>\n",
       "      <td>282.250000</td>\n",
       "      <td>2567.500000</td>\n",
       "      <td>1350.000000</td>\n",
       "      <td>49.000000</td>\n",
       "      <td>40.000000</td>\n",
       "      <td>42.250000</td>\n",
       "      <td>13.000000</td>\n",
       "      <td>100.000000</td>\n",
       "      <td>17.000000</td>\n",
       "      <td>10.000000</td>\n",
       "      <td>5.000000</td>\n",
       "      <td>29.250000</td>\n",
       "      <td>36555.500000</td>\n",
       "      <td>252.000000</td>\n",
       "    </tr>\n",
       "    <tr>\n",
       "      <th>max</th>\n",
       "      <td>376.000000</td>\n",
       "      <td>3899.000000</td>\n",
       "      <td>2180.000000</td>\n",
       "      <td>81.000000</td>\n",
       "      <td>312.000000</td>\n",
       "      <td>239.000000</td>\n",
       "      <td>103.000000</td>\n",
       "      <td>600.000000</td>\n",
       "      <td>89.000000</td>\n",
       "      <td>74.000000</td>\n",
       "      <td>40.000000</td>\n",
       "      <td>174.000000</td>\n",
       "      <td>252280.000000</td>\n",
       "      <td>2383.000000</td>\n",
       "    </tr>\n",
       "  </tbody>\n",
       "</table>\n",
       "</div>"
      ],
      "text/plain": [
       "       Unnamed: 0  HighestPoint  LowestPoint  DayPassPriceAdult  \\\n",
       "count  376.000000    376.000000   376.000000         376.000000   \n",
       "mean   188.500000   2051.688830  1055.098404          40.779255   \n",
       "std    108.686092    776.719908   423.604310          12.474259   \n",
       "min      1.000000      0.000000     0.000000           0.000000   \n",
       "25%     94.750000   1550.000000   779.250000          34.000000   \n",
       "50%    188.500000   2104.000000  1050.000000          42.000000   \n",
       "75%    282.250000   2567.500000  1350.000000          49.000000   \n",
       "max    376.000000   3899.000000  2180.000000          81.000000   \n",
       "\n",
       "       BeginnerSlope  IntermediateSlope  DifficultSlope  TotalSlope  \\\n",
       "count     376.000000         376.000000      376.000000  376.000000   \n",
       "mean       35.869681          38.348404       11.776596   86.257979   \n",
       "std        53.719832          49.691136       17.785780  113.740218   \n",
       "min         0.000000           0.000000        0.000000    0.000000   \n",
       "25%         8.000000           9.000000        2.000000   25.000000   \n",
       "50%        19.000000          22.000000        5.000000   48.000000   \n",
       "75%        40.000000          42.250000       13.000000  100.000000   \n",
       "max       312.000000         239.000000      103.000000  600.000000   \n",
       "\n",
       "       SurfaceLifts  ChairLifts  GondolaLifts  TotalLifts   LiftCapacity  \\\n",
       "count    376.000000  376.000000    376.000000  376.000000     376.000000   \n",
       "mean      13.662234    9.340426      3.954787   26.957447   34727.244681   \n",
       "std       14.438661   12.595282      6.565411   31.038957   45955.042689   \n",
       "min        0.000000    0.000000      0.000000    0.000000       0.000000   \n",
       "25%        5.000000    2.000000      0.000000   10.000000   10642.500000   \n",
       "50%        9.000000    5.000000      2.000000   17.000000   19031.500000   \n",
       "75%       17.000000   10.000000      5.000000   29.250000   36555.500000   \n",
       "max       89.000000   74.000000     40.000000  174.000000  252280.000000   \n",
       "\n",
       "       SnowCannons  \n",
       "count   376.000000  \n",
       "mean    218.361702  \n",
       "std     406.903529  \n",
       "min       0.000000  \n",
       "25%       0.000000  \n",
       "50%      54.000000  \n",
       "75%     252.000000  \n",
       "max    2383.000000  "
      ]
     },
     "execution_count": 6,
     "metadata": {},
     "output_type": "execute_result"
    }
   ],
   "source": [
    "df.describe()"
   ]
  },
  {
   "cell_type": "code",
   "execution_count": 7,
   "metadata": {},
   "outputs": [],
   "source": [
    "# Dataframe with zero DayPassPriceAdult\n",
    "zero_DayPassPriceAdult = df[df['DayPassPriceAdult'] == 0]\n"
   ]
  },
  {
   "cell_type": "code",
   "execution_count": 8,
   "metadata": {},
   "outputs": [
    {
     "data": {
      "text/plain": [
       "8"
      ]
     },
     "execution_count": 8,
     "metadata": {},
     "output_type": "execute_result"
    }
   ],
   "source": [
    "# number of rows with zero DayPassPriceAdult\n",
    "zero_DayPassPriceAdult.shape[0]"
   ]
  },
  {
   "cell_type": "code",
   "execution_count": 13,
   "metadata": {},
   "outputs": [],
   "source": [
    "# Dataframe with a low DayPassPriceAdult\n",
    "low_DayPassPriceAdult = df[df['DayPassPriceAdult'] < 10]"
   ]
  },
  {
   "cell_type": "code",
   "execution_count": 14,
   "metadata": {},
   "outputs": [
    {
     "data": {
      "text/plain": [
       "8"
      ]
     },
     "execution_count": 14,
     "metadata": {},
     "output_type": "execute_result"
    }
   ],
   "source": [
    "# number of rows with a low DayPassPriceAdult\n",
    "low_DayPassPriceAdult.shape[0]"
   ]
  },
  {
   "cell_type": "code",
   "execution_count": null,
   "metadata": {},
   "outputs": [],
   "source": []
  }
 ],
 "metadata": {
  "kernelspec": {
   "display_name": "Python 3",
   "language": "python",
   "name": "python3"
  },
  "language_info": {
   "codemirror_mode": {
    "name": "ipython",
    "version": 3
   },
   "file_extension": ".py",
   "mimetype": "text/x-python",
   "name": "python",
   "nbconvert_exporter": "python",
   "pygments_lexer": "ipython3",
   "version": "3.11.5"
  }
 },
 "nbformat": 4,
 "nbformat_minor": 2
}
